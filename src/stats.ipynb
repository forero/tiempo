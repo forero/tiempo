{
 "cells": [
  {
   "cell_type": "code",
   "execution_count": 1,
   "id": "89e7d939",
   "metadata": {},
   "outputs": [],
   "source": [
    "import pandas as pd\n",
    "import numpy as np\n",
    "import matplotlib.pyplot as plt"
   ]
  },
  {
   "cell_type": "code",
   "execution_count": 2,
   "id": "6496955b",
   "metadata": {},
   "outputs": [],
   "source": [
    "data = pd.read_csv(\"../data/2021.csv\")"
   ]
  },
  {
   "cell_type": "code",
   "execution_count": 3,
   "id": "44f4c732",
   "metadata": {},
   "outputs": [
    {
     "data": {
      "text/plain": [
       "1.2040816326530612"
      ]
     },
     "execution_count": 3,
     "metadata": {},
     "output_type": "execute_result"
    }
   ],
   "source": [
    "data[\"INTER\"].mean()"
   ]
  },
  {
   "cell_type": "code",
   "execution_count": 4,
   "id": "a3147f31",
   "metadata": {},
   "outputs": [
    {
     "data": {
      "text/html": [
       "<div>\n",
       "<style scoped>\n",
       "    .dataframe tbody tr th:only-of-type {\n",
       "        vertical-align: middle;\n",
       "    }\n",
       "\n",
       "    .dataframe tbody tr th {\n",
       "        vertical-align: top;\n",
       "    }\n",
       "\n",
       "    .dataframe thead th {\n",
       "        text-align: right;\n",
       "    }\n",
       "</style>\n",
       "<table border=\"1\" class=\"dataframe\">\n",
       "  <thead>\n",
       "    <tr style=\"text-align: right;\">\n",
       "      <th></th>\n",
       "      <th>W</th>\n",
       "      <th>FAM</th>\n",
       "      <th>BUS</th>\n",
       "      <th>RES</th>\n",
       "      <th>TEACH</th>\n",
       "      <th>SERV</th>\n",
       "      <th>SOC</th>\n",
       "      <th>MB</th>\n",
       "      <th>STR</th>\n",
       "      <th>IDLE</th>\n",
       "      <th>MISC</th>\n",
       "      <th>DESI</th>\n",
       "      <th>INTER</th>\n",
       "    </tr>\n",
       "  </thead>\n",
       "  <tbody>\n",
       "    <tr>\n",
       "      <th>count</th>\n",
       "      <td>49.00000</td>\n",
       "      <td>49.000000</td>\n",
       "      <td>49.000000</td>\n",
       "      <td>49.000000</td>\n",
       "      <td>49.000000</td>\n",
       "      <td>49.000000</td>\n",
       "      <td>49.000000</td>\n",
       "      <td>49.000000</td>\n",
       "      <td>49.000000</td>\n",
       "      <td>49.000000</td>\n",
       "      <td>49.000000</td>\n",
       "      <td>49.000000</td>\n",
       "      <td>49.000000</td>\n",
       "    </tr>\n",
       "    <tr>\n",
       "      <th>mean</th>\n",
       "      <td>25.00000</td>\n",
       "      <td>35.755102</td>\n",
       "      <td>8.367347</td>\n",
       "      <td>10.040816</td>\n",
       "      <td>5.489796</td>\n",
       "      <td>2.000000</td>\n",
       "      <td>2.408163</td>\n",
       "      <td>7.020408</td>\n",
       "      <td>12.428571</td>\n",
       "      <td>5.040816</td>\n",
       "      <td>16.938776</td>\n",
       "      <td>6.265306</td>\n",
       "      <td>1.204082</td>\n",
       "    </tr>\n",
       "    <tr>\n",
       "      <th>std</th>\n",
       "      <td>14.28869</td>\n",
       "      <td>16.612659</td>\n",
       "      <td>5.468447</td>\n",
       "      <td>6.987963</td>\n",
       "      <td>4.637359</td>\n",
       "      <td>1.968502</td>\n",
       "      <td>3.409047</td>\n",
       "      <td>3.412537</td>\n",
       "      <td>7.960842</td>\n",
       "      <td>4.756396</td>\n",
       "      <td>7.360956</td>\n",
       "      <td>5.667067</td>\n",
       "      <td>1.098855</td>\n",
       "    </tr>\n",
       "    <tr>\n",
       "      <th>min</th>\n",
       "      <td>1.00000</td>\n",
       "      <td>2.000000</td>\n",
       "      <td>0.000000</td>\n",
       "      <td>0.000000</td>\n",
       "      <td>0.000000</td>\n",
       "      <td>0.000000</td>\n",
       "      <td>0.000000</td>\n",
       "      <td>0.000000</td>\n",
       "      <td>0.000000</td>\n",
       "      <td>0.000000</td>\n",
       "      <td>0.000000</td>\n",
       "      <td>0.000000</td>\n",
       "      <td>0.000000</td>\n",
       "    </tr>\n",
       "    <tr>\n",
       "      <th>25%</th>\n",
       "      <td>13.00000</td>\n",
       "      <td>25.000000</td>\n",
       "      <td>4.000000</td>\n",
       "      <td>4.000000</td>\n",
       "      <td>0.000000</td>\n",
       "      <td>0.000000</td>\n",
       "      <td>0.000000</td>\n",
       "      <td>5.000000</td>\n",
       "      <td>7.000000</td>\n",
       "      <td>2.000000</td>\n",
       "      <td>12.000000</td>\n",
       "      <td>1.000000</td>\n",
       "      <td>0.000000</td>\n",
       "    </tr>\n",
       "    <tr>\n",
       "      <th>50%</th>\n",
       "      <td>25.00000</td>\n",
       "      <td>33.000000</td>\n",
       "      <td>8.000000</td>\n",
       "      <td>10.000000</td>\n",
       "      <td>6.000000</td>\n",
       "      <td>1.000000</td>\n",
       "      <td>1.000000</td>\n",
       "      <td>7.000000</td>\n",
       "      <td>11.000000</td>\n",
       "      <td>4.000000</td>\n",
       "      <td>16.000000</td>\n",
       "      <td>5.000000</td>\n",
       "      <td>1.000000</td>\n",
       "    </tr>\n",
       "    <tr>\n",
       "      <th>75%</th>\n",
       "      <td>37.00000</td>\n",
       "      <td>40.000000</td>\n",
       "      <td>12.000000</td>\n",
       "      <td>15.000000</td>\n",
       "      <td>10.000000</td>\n",
       "      <td>4.000000</td>\n",
       "      <td>3.000000</td>\n",
       "      <td>9.000000</td>\n",
       "      <td>15.000000</td>\n",
       "      <td>7.000000</td>\n",
       "      <td>22.000000</td>\n",
       "      <td>11.000000</td>\n",
       "      <td>2.000000</td>\n",
       "    </tr>\n",
       "    <tr>\n",
       "      <th>max</th>\n",
       "      <td>49.00000</td>\n",
       "      <td>94.000000</td>\n",
       "      <td>24.000000</td>\n",
       "      <td>26.000000</td>\n",
       "      <td>14.000000</td>\n",
       "      <td>8.000000</td>\n",
       "      <td>15.000000</td>\n",
       "      <td>16.000000</td>\n",
       "      <td>50.000000</td>\n",
       "      <td>23.000000</td>\n",
       "      <td>37.000000</td>\n",
       "      <td>18.000000</td>\n",
       "      <td>4.000000</td>\n",
       "    </tr>\n",
       "  </tbody>\n",
       "</table>\n",
       "</div>"
      ],
      "text/plain": [
       "              W        FAM        BUS        RES      TEACH       SERV  \\\n",
       "count  49.00000  49.000000  49.000000  49.000000  49.000000  49.000000   \n",
       "mean   25.00000  35.755102   8.367347  10.040816   5.489796   2.000000   \n",
       "std    14.28869  16.612659   5.468447   6.987963   4.637359   1.968502   \n",
       "min     1.00000   2.000000   0.000000   0.000000   0.000000   0.000000   \n",
       "25%    13.00000  25.000000   4.000000   4.000000   0.000000   0.000000   \n",
       "50%    25.00000  33.000000   8.000000  10.000000   6.000000   1.000000   \n",
       "75%    37.00000  40.000000  12.000000  15.000000  10.000000   4.000000   \n",
       "max    49.00000  94.000000  24.000000  26.000000  14.000000   8.000000   \n",
       "\n",
       "             SOC         MB        STR       IDLE       MISC       DESI  \\\n",
       "count  49.000000  49.000000  49.000000  49.000000  49.000000  49.000000   \n",
       "mean    2.408163   7.020408  12.428571   5.040816  16.938776   6.265306   \n",
       "std     3.409047   3.412537   7.960842   4.756396   7.360956   5.667067   \n",
       "min     0.000000   0.000000   0.000000   0.000000   0.000000   0.000000   \n",
       "25%     0.000000   5.000000   7.000000   2.000000  12.000000   1.000000   \n",
       "50%     1.000000   7.000000  11.000000   4.000000  16.000000   5.000000   \n",
       "75%     3.000000   9.000000  15.000000   7.000000  22.000000  11.000000   \n",
       "max    15.000000  16.000000  50.000000  23.000000  37.000000  18.000000   \n",
       "\n",
       "           INTER  \n",
       "count  49.000000  \n",
       "mean    1.204082  \n",
       "std     1.098855  \n",
       "min     0.000000  \n",
       "25%     0.000000  \n",
       "50%     1.000000  \n",
       "75%     2.000000  \n",
       "max     4.000000  "
      ]
     },
     "execution_count": 4,
     "metadata": {},
     "output_type": "execute_result"
    }
   ],
   "source": [
    "data.describe()"
   ]
  },
  {
   "cell_type": "code",
   "execution_count": 5,
   "id": "014ca57c",
   "metadata": {},
   "outputs": [
    {
     "name": "stdout",
     "output_type": "stream",
     "text": [
      "FAM\t 35 +/- 11\n",
      "BUS\t 8 +/- 4\n",
      "RES\t 10 +/- 5\n",
      "TEACH\t 7 +/- 2\n",
      "SERV\t 2 +/- 1\n",
      "SOC\t 4 +/- 2\n",
      "MB\t 7 +/- 2\n",
      "STR\t 12 +/- 5\n",
      "IDLE\t 5 +/- 3\n",
      "MISC\t 17 +/- 5\n",
      "TOTAL\t 107\n"
     ]
    }
   ],
   "source": [
    "tot = 0\n",
    "for k in data.keys():\n",
    "    if k not in [\"W\", \"INTER\", \"DESI\"]:\n",
    "        d = data[k][data[k]>0]\n",
    "        #d = data[k]\n",
    "        m = int(np.mean(d))\n",
    "        s = int(np.mean(np.abs(d-m)))\n",
    "        tot = tot + m\n",
    "        print('{}\\t {:d} +/- {:d}'.format(k, m, s))\n",
    "print(\"TOTAL\\t {:d}\".format(tot))"
   ]
  },
  {
   "cell_type": "code",
   "execution_count": 64,
   "id": "e2b71684",
   "metadata": {},
   "outputs": [],
   "source": [
    "\n",
    "def year_stats(year, category):\n",
    "    #data = np.loadtxt(\"../data/{}.csv\".format(year), delimiter=',', skiprows=1)\n",
    "    #actos = {\"WEEK\":0, \"RES\":1, \"TEACH\":2, \"SERVICE\":3, \"SOC\":4, \"MB\":5, \"STR\":6, \"IDLE\":7, \"MISC\":8, \"DESI\":9}\n",
    "    data = pd.read_csv(\"../data/{}.csv\".format(year))\n",
    "    #print(data)\n",
    "\n",
    "    #total_hours = data[:,actos[\"RES\"]] + data[:, actos[\"TEACH\"]] + data[:, actos[\"SERVICE\"]]\n",
    "    #res_hours =  data[:,actos[\"RES\"]]\n",
    "    #desi_hours =  data[:,actos[\"DESI\"]]\n",
    "    \n",
    "    total_hours = data[\"RES\"] + data[\"TEACH\"] \n",
    "    cat_hours = data[category]\n",
    "\n",
    "\n",
    "\n",
    "    valid_weeks = total_hours>5\n",
    "    n_valid_weeks = len(cat_hours[valid_weeks])\n",
    "    total_cat_hours_week = cat_hours[valid_weeks].sum()/n_valid_weeks\n",
    "    \n",
    "    return {category:total_cat_hours_week}"
   ]
  },
  {
   "cell_type": "code",
   "execution_count": 89,
   "id": "0c31add2-503a-45fd-b7c3-29d802bea74f",
   "metadata": {},
   "outputs": [],
   "source": [
    "cats = ['DESI', 'RES', 'IDLE', 'TEACH', 'MB', 'SERV', 'SOC', 'STR', 'MISC']\n",
    "\n",
    "hours = {}\n",
    "\n",
    "for c in cats:\n",
    "    hours[c] = []\n",
    "\n",
    "time = []\n",
    "for i in range(2014,2023):\n",
    "    time.append(i)\n",
    "    \n",
    "    for c in cats:\n",
    "        a = year_stats(i,c)\n",
    "        hours[c].append(a[c])\n",
    "\n",
    "for c in cats:\n",
    "    hours[c] = np.array(hours[c])\n"
   ]
  },
  {
   "cell_type": "code",
   "execution_count": 93,
   "id": "7a6a7ba6-2a7d-46e2-ac8a-d8350f64a40e",
   "metadata": {},
   "outputs": [
    {
     "data": {
      "text/plain": [
       "<matplotlib.legend.Legend at 0x13f9b8b50>"
      ]
     },
     "execution_count": 93,
     "metadata": {},
     "output_type": "execute_result"
    },
    {
     "data": {
      "image/png": "[encoded data removed]",
      "text/plain": [
       "<Figure size 640x480 with 1 Axes>"
      ]
     },
     "metadata": {},
     "output_type": "display_data"
    }
   ],
   "source": [
    "cat='RES'; plt.plot(time, hours[cat], linewidth=10,label=cat)\n",
    "cat='TEACH'; plt.plot(time, hours[cat], linewidth=7,label=cat)\n",
    "#cat='IDLE'; plt.plot(time, hours[cat], linewidth=6,label=cat)\n",
    "cat='SERV'; plt.plot(time, hours[cat], linewidth=4,label=cat)\n",
    "#cat='MB'; plt.plot(time, hours[cat], linewidth=3,label=cat)\n",
    "\n",
    "#cat='SOC'; plt.plot(time, hours[cat], linewidth=2,label=cat)\n",
    "#cat='STR'; plt.plot(time, hours[cat], linewidth=2,label=cat)\n",
    "\n",
    "#cat='MISC'; plt.plot(time, hours[cat], linewidth=2,label=cat)\n",
    "\n",
    "\n",
    "plt.legend()"
   ]
  },
  {
   "cell_type": "code",
   "execution_count": null,
   "id": "28063974-9837-4913-8d61-9e37a3f69db3",
   "metadata": {},
   "outputs": [],
   "source": []
  },
  {
   "cell_type": "code",
   "execution_count": null,
   "id": "3233e87d-4b04-4150-93bb-d48bbee0c1b9",
   "metadata": {},
   "outputs": [],
   "source": []
  }
 ],
 "metadata": {
  "kernelspec": {
   "display_name": "Python 3 (ipykernel)",
   "language": "python",
   "name": "python3"
  },
  "language_info": {
   "codemirror_mode": {
    "name": "ipython",
    "version": 3
   },
   "file_extension": ".py",
   "mimetype": "text/x-python",
   "name": "python",
   "nbconvert_exporter": "python",
   "pygments_lexer": "ipython3",
   "version": "3.8.13"
  }
 },
 "nbformat": 4,
 "nbformat_minor": 5
}
