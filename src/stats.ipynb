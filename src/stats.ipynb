{
 "cells": [
  {
   "cell_type": "code",
   "execution_count": 2,
   "id": "89e7d939",
   "metadata": {},
   "outputs": [],
   "source": [
    "import pandas as pd\n",
    "import numpy as np\n",
    "import matplotlib.pyplot as plt"
   ]
  },
  {
   "cell_type": "code",
   "execution_count": 3,
   "id": "6496955b",
   "metadata": {},
   "outputs": [],
   "source": [
    "data = pd.read_csv(\"../data/2021.csv\")"
   ]
  },
  {
   "cell_type": "code",
   "execution_count": 4,
   "id": "44f4c732",
   "metadata": {},
   "outputs": [
    {
     "data": {
      "text/plain": [
       "1.2040816326530612"
      ]
     },
     "execution_count": 4,
     "metadata": {},
     "output_type": "execute_result"
    }
   ],
   "source": [
    "data[\"INTER\"].mean()"
   ]
  },
  {
   "cell_type": "code",
   "execution_count": 5,
   "id": "a3147f31",
   "metadata": {},
   "outputs": [
    {
     "data": {
      "text/html": [
       "<div>\n",
       "<style scoped>\n",
       "    .dataframe tbody tr th:only-of-type {\n",
       "        vertical-align: middle;\n",
       "    }\n",
       "\n",
       "    .dataframe tbody tr th {\n",
       "        vertical-align: top;\n",
       "    }\n",
       "\n",
       "    .dataframe thead th {\n",
       "        text-align: right;\n",
       "    }\n",
       "</style>\n",
       "<table border=\"1\" class=\"dataframe\">\n",
       "  <thead>\n",
       "    <tr style=\"text-align: right;\">\n",
       "      <th></th>\n",
       "      <th>W</th>\n",
       "      <th>FAM</th>\n",
       "      <th>BUS</th>\n",
       "      <th>RES</th>\n",
       "      <th>TEACH</th>\n",
       "      <th>SERV</th>\n",
       "      <th>SOC</th>\n",
       "      <th>MB</th>\n",
       "      <th>STR</th>\n",
       "      <th>IDLE</th>\n",
       "      <th>MISC</th>\n",
       "      <th>DESI</th>\n",
       "      <th>INTER</th>\n",
       "    </tr>\n",
       "  </thead>\n",
       "  <tbody>\n",
       "    <tr>\n",
       "      <th>count</th>\n",
       "      <td>49.00000</td>\n",
       "      <td>49.000000</td>\n",
       "      <td>49.000000</td>\n",
       "      <td>49.000000</td>\n",
       "      <td>49.000000</td>\n",
       "      <td>49.000000</td>\n",
       "      <td>49.000000</td>\n",
       "      <td>49.000000</td>\n",
       "      <td>49.000000</td>\n",
       "      <td>49.000000</td>\n",
       "      <td>49.000000</td>\n",
       "      <td>49.000000</td>\n",
       "      <td>49.000000</td>\n",
       "    </tr>\n",
       "    <tr>\n",
       "      <th>mean</th>\n",
       "      <td>25.00000</td>\n",
       "      <td>35.755102</td>\n",
       "      <td>8.367347</td>\n",
       "      <td>10.040816</td>\n",
       "      <td>5.489796</td>\n",
       "      <td>2.000000</td>\n",
       "      <td>2.408163</td>\n",
       "      <td>7.020408</td>\n",
       "      <td>12.428571</td>\n",
       "      <td>5.040816</td>\n",
       "      <td>16.938776</td>\n",
       "      <td>6.265306</td>\n",
       "      <td>1.204082</td>\n",
       "    </tr>\n",
       "    <tr>\n",
       "      <th>std</th>\n",
       "      <td>14.28869</td>\n",
       "      <td>16.612659</td>\n",
       "      <td>5.468447</td>\n",
       "      <td>6.987963</td>\n",
       "      <td>4.637359</td>\n",
       "      <td>1.968502</td>\n",
       "      <td>3.409047</td>\n",
       "      <td>3.412537</td>\n",
       "      <td>7.960842</td>\n",
       "      <td>4.756396</td>\n",
       "      <td>7.360956</td>\n",
       "      <td>5.667067</td>\n",
       "      <td>1.098855</td>\n",
       "    </tr>\n",
       "    <tr>\n",
       "      <th>min</th>\n",
       "      <td>1.00000</td>\n",
       "      <td>2.000000</td>\n",
       "      <td>0.000000</td>\n",
       "      <td>0.000000</td>\n",
       "      <td>0.000000</td>\n",
       "      <td>0.000000</td>\n",
       "      <td>0.000000</td>\n",
       "      <td>0.000000</td>\n",
       "      <td>0.000000</td>\n",
       "      <td>0.000000</td>\n",
       "      <td>0.000000</td>\n",
       "      <td>0.000000</td>\n",
       "      <td>0.000000</td>\n",
       "    </tr>\n",
       "    <tr>\n",
       "      <th>25%</th>\n",
       "      <td>13.00000</td>\n",
       "      <td>25.000000</td>\n",
       "      <td>4.000000</td>\n",
       "      <td>4.000000</td>\n",
       "      <td>0.000000</td>\n",
       "      <td>0.000000</td>\n",
       "      <td>0.000000</td>\n",
       "      <td>5.000000</td>\n",
       "      <td>7.000000</td>\n",
       "      <td>2.000000</td>\n",
       "      <td>12.000000</td>\n",
       "      <td>1.000000</td>\n",
       "      <td>0.000000</td>\n",
       "    </tr>\n",
       "    <tr>\n",
       "      <th>50%</th>\n",
       "      <td>25.00000</td>\n",
       "      <td>33.000000</td>\n",
       "      <td>8.000000</td>\n",
       "      <td>10.000000</td>\n",
       "      <td>6.000000</td>\n",
       "      <td>1.000000</td>\n",
       "      <td>1.000000</td>\n",
       "      <td>7.000000</td>\n",
       "      <td>11.000000</td>\n",
       "      <td>4.000000</td>\n",
       "      <td>16.000000</td>\n",
       "      <td>5.000000</td>\n",
       "      <td>1.000000</td>\n",
       "    </tr>\n",
       "    <tr>\n",
       "      <th>75%</th>\n",
       "      <td>37.00000</td>\n",
       "      <td>40.000000</td>\n",
       "      <td>12.000000</td>\n",
       "      <td>15.000000</td>\n",
       "      <td>10.000000</td>\n",
       "      <td>4.000000</td>\n",
       "      <td>3.000000</td>\n",
       "      <td>9.000000</td>\n",
       "      <td>15.000000</td>\n",
       "      <td>7.000000</td>\n",
       "      <td>22.000000</td>\n",
       "      <td>11.000000</td>\n",
       "      <td>2.000000</td>\n",
       "    </tr>\n",
       "    <tr>\n",
       "      <th>max</th>\n",
       "      <td>49.00000</td>\n",
       "      <td>94.000000</td>\n",
       "      <td>24.000000</td>\n",
       "      <td>26.000000</td>\n",
       "      <td>14.000000</td>\n",
       "      <td>8.000000</td>\n",
       "      <td>15.000000</td>\n",
       "      <td>16.000000</td>\n",
       "      <td>50.000000</td>\n",
       "      <td>23.000000</td>\n",
       "      <td>37.000000</td>\n",
       "      <td>18.000000</td>\n",
       "      <td>4.000000</td>\n",
       "    </tr>\n",
       "  </tbody>\n",
       "</table>\n",
       "</div>"
      ],
      "text/plain": [
       "              W        FAM        BUS        RES      TEACH       SERV  \\\n",
       "count  49.00000  49.000000  49.000000  49.000000  49.000000  49.000000   \n",
       "mean   25.00000  35.755102   8.367347  10.040816   5.489796   2.000000   \n",
       "std    14.28869  16.612659   5.468447   6.987963   4.637359   1.968502   \n",
       "min     1.00000   2.000000   0.000000   0.000000   0.000000   0.000000   \n",
       "25%    13.00000  25.000000   4.000000   4.000000   0.000000   0.000000   \n",
       "50%    25.00000  33.000000   8.000000  10.000000   6.000000   1.000000   \n",
       "75%    37.00000  40.000000  12.000000  15.000000  10.000000   4.000000   \n",
       "max    49.00000  94.000000  24.000000  26.000000  14.000000   8.000000   \n",
       "\n",
       "             SOC         MB        STR       IDLE       MISC       DESI  \\\n",
       "count  49.000000  49.000000  49.000000  49.000000  49.000000  49.000000   \n",
       "mean    2.408163   7.020408  12.428571   5.040816  16.938776   6.265306   \n",
       "std     3.409047   3.412537   7.960842   4.756396   7.360956   5.667067   \n",
       "min     0.000000   0.000000   0.000000   0.000000   0.000000   0.000000   \n",
       "25%     0.000000   5.000000   7.000000   2.000000  12.000000   1.000000   \n",
       "50%     1.000000   7.000000  11.000000   4.000000  16.000000   5.000000   \n",
       "75%     3.000000   9.000000  15.000000   7.000000  22.000000  11.000000   \n",
       "max    15.000000  16.000000  50.000000  23.000000  37.000000  18.000000   \n",
       "\n",
       "           INTER  \n",
       "count  49.000000  \n",
       "mean    1.204082  \n",
       "std     1.098855  \n",
       "min     0.000000  \n",
       "25%     0.000000  \n",
       "50%     1.000000  \n",
       "75%     2.000000  \n",
       "max     4.000000  "
      ]
     },
     "execution_count": 5,
     "metadata": {},
     "output_type": "execute_result"
    }
   ],
   "source": [
    "data.describe()"
   ]
  },
  {
   "cell_type": "code",
   "execution_count": 6,
   "id": "014ca57c",
   "metadata": {},
   "outputs": [
    {
     "name": "stdout",
     "output_type": "stream",
     "text": [
      "FAM\t 35 +/- 11\n",
      "BUS\t 8 +/- 4\n",
      "RES\t 10 +/- 5\n",
      "TEACH\t 7 +/- 2\n",
      "SERV\t 2 +/- 1\n",
      "SOC\t 4 +/- 2\n",
      "MB\t 7 +/- 2\n",
      "STR\t 12 +/- 5\n",
      "IDLE\t 5 +/- 3\n",
      "MISC\t 17 +/- 5\n",
      "TOTAL\t 107\n"
     ]
    }
   ],
   "source": [
    "tot = 0\n",
    "for k in data.keys():\n",
    "    if k not in [\"W\", \"INTER\", \"DESI\"]:\n",
    "        d = data[k][data[k]>0]\n",
    "        #d = data[k]\n",
    "        m = int(np.mean(d))\n",
    "        s = int(np.mean(np.abs(d-m)))\n",
    "        tot = tot + m\n",
    "        print('{}\\t {:d} +/- {:d}'.format(k, m, s))\n",
    "print(\"TOTAL\\t {:d}\".format(tot))"
   ]
  },
  {
   "cell_type": "code",
   "execution_count": 7,
   "id": "e2b71684",
   "metadata": {},
   "outputs": [],
   "source": [
    "\n",
    "def year_stats(year, category):\n",
    "    #data = np.loadtxt(\"../data/{}.csv\".format(year), delimiter=',', skiprows=1)\n",
    "    #actos = {\"WEEK\":0, \"RES\":1, \"TEACH\":2, \"SERVICE\":3, \"SOC\":4, \"MB\":5, \"STR\":6, \"IDLE\":7, \"MISC\":8, \"DESI\":9}\n",
    "    data = pd.read_csv(\"../data/{}.csv\".format(year))\n",
    "    #print(data)\n",
    "\n",
    "    #total_hours = data[:,actos[\"RES\"]] + data[:, actos[\"TEACH\"]] + data[:, actos[\"SERVICE\"]]\n",
    "    #res_hours =  data[:,actos[\"RES\"]]\n",
    "    #desi_hours =  data[:,actos[\"DESI\"]]\n",
    "    \n",
    "    total_hours = data[\"RES\"] + data[\"TEACH\"] \n",
    "    cat_hours = data[category]\n",
    "\n",
    "\n",
    "\n",
    "    valid_weeks = total_hours>5\n",
    "    n_valid_weeks = len(cat_hours[valid_weeks])\n",
    "    total_cat_hours_week = cat_hours[valid_weeks].sum()/n_valid_weeks\n",
    "    \n",
    "    return {category:total_cat_hours_week}"
   ]
  },
  {
   "cell_type": "code",
   "execution_count": 10,
   "id": "0c31add2-503a-45fd-b7c3-29d802bea74f",
   "metadata": {},
   "outputs": [],
   "source": [
    "cats = ['DESI', 'RES', 'IDLE', 'TEACH', 'MB', 'SERV', 'SOC', 'STR', 'MISC']\n",
    "\n",
    "hours = {}\n",
    "\n",
    "for c in cats:\n",
    "    hours[c] = []\n",
    "\n",
    "time = []\n",
    "for i in range(2014,2024):\n",
    "    time.append(i)\n",
    "    \n",
    "    for c in cats:\n",
    "        a = year_stats(i,c)\n",
    "        hours[c].append(a[c])\n",
    "\n",
    "for c in cats:\n",
    "    hours[c] = np.array(hours[c])\n"
   ]
  },
  {
   "cell_type": "code",
   "execution_count": 11,
   "id": "7a6a7ba6-2a7d-46e2-ac8a-d8350f64a40e",
   "metadata": {},
   "outputs": [
    {
     "name": "stdout",
     "output_type": "stream",
     "text": [
      "[42.61408163 42.75833333 43.17934783 39.87777778 38.58695652 36.42222222\n",
      " 38.04       31.29268293 30.14444444 27.12804878] 14.787927538636524\n",
      "[15.30102041 13.41666667 16.67391304 19.43333333 14.15217391 17.44444444\n",
      " 16.6        11.68292683 11.83333333 11.34146341]\n",
      "[11.40306122 12.546875   10.57065217  5.11111111  8.7826087   7.8\n",
      "  9.74        6.56097561  7.65555556  6.66463415]\n"
     ]
    },
    {
     "data": {
      "image/png": "[encoded data removed]",
      "text/plain": [
       "<Figure size 640x480 with 1 Axes>"
      ]
     },
     "metadata": {},
     "output_type": "display_data"
    }
   ],
   "source": [
    "cat='RES'; plt.plot(time, hours[cat], linewidth=10,label=cat)\n",
    "cat='TEACH'; plt.plot(time, hours[cat], linewidth=7,label=cat)\n",
    "#cat='IDLE'; plt.plot(time, hours[cat], linewidth=6,label=cat)\n",
    "cat='SERV'; plt.plot(time, hours[cat], linewidth=4,label=cat)\n",
    "#cat='MB'; plt.plot(time, hours[cat], linewidth=3,label=cat)\n",
    "\n",
    "#cat='SOC'; plt.plot(time, hours[cat], linewidth=2,label=cat)\n",
    "cat='STR'; plt.plot(time, hours[cat], linewidth=2,label=cat)\n",
    "\n",
    "#cat='MISC'; plt.plot(time, hours[cat], linewidth=2,label=cat)\n",
    "\n",
    "tot = np.zeros(len(time))\n",
    "for r in ['RES', 'TEACH', 'SERV', 'STR']:\n",
    "    tot += hours[r]\n",
    "plt.plot(time, tot, color='black', label='tot')\n",
    "plt.legend()\n",
    "print(tot, hours['RES'].mean())\n",
    "print(hours['RES'])\n",
    "print(hours['TEACH'])"
   ]
  },
  {
   "cell_type": "code",
   "execution_count": 12,
   "id": "28063974-9837-4913-8d61-9e37a3f69db3",
   "metadata": {},
   "outputs": [],
   "source": [
    "activities = ['RES', 'TEACH', 'IDLE','MB', 'SERV', 'SOC', 'STR', 'MISC']\n",
    "data = pd.read_csv(\"../data/2019.csv\")\n",
    "total = np.zeros(len(data['RES']))\n",
    "\n",
    "for a in activities:\n",
    "    total += data[a]"
   ]
  },
  {
   "cell_type": "code",
   "execution_count": 13,
   "id": "3233e87d-4b04-4150-93bb-d48bbee0c1b9",
   "metadata": {},
   "outputs": [
    {
     "data": {
      "text/plain": [
       "(101.8936170212766, 103.0)"
      ]
     },
     "execution_count": 13,
     "metadata": {},
     "output_type": "execute_result"
    }
   ],
   "source": [
    "total.mean(), total.median()"
   ]
  },
  {
   "cell_type": "code",
   "execution_count": 14,
   "id": "8f27de54-7f28-40d9-b233-96c477d47666",
   "metadata": {},
   "outputs": [
    {
     "name": "stdout",
     "output_type": "stream",
     "text": [
      "RES 16.0\n",
      "TEACH 9.0\n",
      "IDLE 7.0\n",
      "MB 4.0\n",
      "SERV 4.0\n",
      "SOC 11.0\n",
      "STR 6.0\n",
      "MISC 38.0\n",
      "95.0\n"
     ]
    }
   ],
   "source": [
    "tot = 0\n",
    "for a in activities:\n",
    "    tot += data[a].median()\n",
    "    print(a, data[a].median())\n",
    "print(tot)"
   ]
  },
  {
   "cell_type": "code",
   "execution_count": 15,
   "id": "4fd5825d-5ead-427f-9ec2-868f3b42f315",
   "metadata": {},
   "outputs": [
    {
     "name": "stdout",
     "output_type": "stream",
     "text": [
      "RES 16.74468085106383\n",
      "TEACH 7.553191489361702\n",
      "IDLE 8.148936170212766\n",
      "MB 4.361702127659575\n",
      "SERV 4.297872340425532\n",
      "SOC 15.914893617021276\n",
      "STR 6.468085106382978\n",
      "MISC 38.40425531914894\n",
      "101.89361702127661\n"
     ]
    }
   ],
   "source": [
    "tot = 0\n",
    "for a in activities:\n",
    "    tot += data[a].mean()\n",
    "    print(a, data[a].mean())\n",
    "print(tot)"
   ]
  },
  {
   "cell_type": "code",
   "execution_count": 16,
   "id": "8015ae3e-df01-4f0f-be42-7eae5cde7b32",
   "metadata": {},
   "outputs": [
    {
     "data": {
      "text/plain": [
       "108"
      ]
     },
     "execution_count": 16,
     "metadata": {},
     "output_type": "execute_result"
    }
   ],
   "source": [
    "54+14+12+9+8+5+2+2+1+1"
   ]
  },
  {
   "cell_type": "code",
   "execution_count": 17,
   "id": "c6749b8e-1bf1-4bd9-8fd7-2691c8e5bbc4",
   "metadata": {},
   "outputs": [
    {
     "data": {
      "text/plain": [
       "54"
      ]
     },
     "execution_count": 17,
     "metadata": {},
     "output_type": "execute_result"
    }
   ],
   "source": [
    "12+14+8+8+6+3+1+1+1"
   ]
  },
  {
   "cell_type": "code",
   "execution_count": 32,
   "id": "92ab5ffe-f91e-40da-9f37-506cc7df2f61",
   "metadata": {},
   "outputs": [
    {
     "data": {
      "text/plain": [
       "0     15.0\n",
       "1     14.0\n",
       "2     21.0\n",
       "3     16.0\n",
       "4     13.0\n",
       "5     24.0\n",
       "6     19.0\n",
       "7     16.0\n",
       "8     11.0\n",
       "9     10.0\n",
       "10    17.0\n",
       "11    12.0\n",
       "12     1.0\n",
       "13    13.0\n",
       "14    15.0\n",
       "15    15.0\n",
       "16    19.0\n",
       "17    14.0\n",
       "18     5.0\n",
       "19    18.0\n",
       "20    28.0\n",
       "21    26.0\n",
       "22    43.0\n",
       "23    29.0\n",
       "24    37.0\n",
       "25    43.0\n",
       "26    24.0\n",
       "27    16.0\n",
       "28    20.0\n",
       "29    15.0\n",
       "30    18.0\n",
       "31    22.0\n",
       "32    16.0\n",
       "33    20.0\n",
       "34    15.0\n",
       "35    20.0\n",
       "36    20.0\n",
       "37    12.0\n",
       "38    11.0\n",
       "39    15.0\n",
       "40    11.0\n",
       "41     1.0\n",
       "42    16.0\n",
       "43     2.0\n",
       "44     2.0\n",
       "45     8.0\n",
       "46     9.0\n",
       "Name: RES, dtype: float64"
      ]
     },
     "execution_count": 32,
     "metadata": {},
     "output_type": "execute_result"
    }
   ],
   "source": [
    "data['RES']"
   ]
  },
  {
   "cell_type": "code",
   "execution_count": null,
   "id": "d52dbead-9491-4fe5-abd4-464c725b23f6",
   "metadata": {},
   "outputs": [],
   "source": []
  }
 ],
 "metadata": {
  "kernelspec": {
   "display_name": "Python 3 (ipykernel)",
   "language": "python",
   "name": "python3"
  },
  "language_info": {
   "codemirror_mode": {
    "name": "ipython",
    "version": 3
   },
   "file_extension": ".py",
   "mimetype": "text/x-python",
   "name": "python",
   "nbconvert_exporter": "python",
   "pygments_lexer": "ipython3",
   "version": "3.8.13"
  }
 },
 "nbformat": 4,
 "nbformat_minor": 5
}
