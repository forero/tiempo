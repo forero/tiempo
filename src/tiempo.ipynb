{
 "cells": [
  {
   "cell_type": "code",
   "execution_count": 1,
   "metadata": {
    "collapsed": false
   },
   "outputs": [],
   "source": [
    "%matplotlib inline \n",
    "import numpy as np\n",
    "import matplotlib.pyplot as plt"
   ]
  },
  {
   "cell_type": "code",
   "execution_count": 2,
   "metadata": {
    "collapsed": false
   },
   "outputs": [],
   "source": [
    "def desi_stats(year):\n",
    "    data = np.loadtxt(\"../data/{}.csv\".format(year), delimiter=',')\n",
    "    actos = {\"WEEK\":0, \"RES\":1, \"TEACH\":2, \"SERVICE\":3, \"SOC\":4, \"MB\":5, \"STR\":6, \"IDLE\":7, \"MISC\":8, \"DESI\":9}\n",
    "\n",
    "    total_hours = data[:,actos[\"RES\"]] + data[:, actos[\"TEACH\"]] + data[:, actos[\"SERVICE\"]]\n",
    "    res_hours =  data[:,actos[\"RES\"]]\n",
    "    desi_hours =  data[:,actos[\"DESI\"]]\n",
    "\n",
    "    valid_weeks = total_hours>10\n",
    "    n_valid_weeks = len(desi_hours[valid_weeks])\n",
    "    total_desi_hours_week = desi_hours[valid_weeks].sum()/n_valid_weeks\n",
    "    total_res_hours_week = res_hours[valid_weeks].sum()/n_valid_weeks\n",
    "    total_desi_res_hours_week = 0.25*(total_res_hours_week - total_desi_hours_week)\n",
    "    print(\"Year {} [weeks {}] DESI service {} DESI research {} Research total {}\".format(\n",
    "        year, n_valid_weeks, round(total_desi_hours_week), round(total_desi_res_hours_week), round(total_res_hours_week)))"
   ]
  },
  {
   "cell_type": "code",
   "execution_count": 3,
   "metadata": {
    "collapsed": false
   },
   "outputs": [
    {
     "name": "stdout",
     "output_type": "stream",
     "text": [
      "Year 2014 [weeks 50] DESI service 2.0 DESI research 3.0 Research total 15.0\n",
      "Year 2015 [weeks 48] DESI service 5.0 DESI research 2.0 Research total 13.0\n",
      "Year 2016 [weeks 47] DESI service 8.0 DESI research 2.0 Research total 16.0\n",
      "Year 2017 [weeks 45] DESI service 10.0 DESI research 2.0 Research total 19.0\n"
     ]
    }
   ],
   "source": [
    "desi_stats(2014)\n",
    "desi_stats(2015)\n",
    "desi_stats(2016)\n",
    "desi_stats(2017)"
   ]
  },
  {
   "cell_type": "code",
   "execution_count": null,
   "metadata": {
    "collapsed": true
   },
   "outputs": [],
   "source": []
  }
 ],
 "metadata": {
  "kernelspec": {
   "display_name": "Python 3",
   "language": "python",
   "name": "python3"
  },
  "language_info": {
   "codemirror_mode": {
    "name": "ipython",
    "version": 3
   },
   "file_extension": ".py",
   "mimetype": "text/x-python",
   "name": "python",
   "nbconvert_exporter": "python",
   "pygments_lexer": "ipython3",
   "version": "3.6.0"
  }
 },
 "nbformat": 4,
 "nbformat_minor": 0
}
