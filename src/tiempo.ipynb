{
 "cells": [
  {
   "cell_type": "code",
   "execution_count": 5,
   "metadata": {},
   "outputs": [],
   "source": [
    "%matplotlib inline \n",
    "import numpy as np\n",
    "import matplotlib.pyplot as plt\n",
    "import pandas as pd"
   ]
  },
  {
   "cell_type": "code",
   "execution_count": 21,
   "metadata": {},
   "outputs": [],
   "source": [
    "def desi_stats(year):\n",
    "    #data = np.loadtxt(\"../data/{}.csv\".format(year), delimiter=',', skiprows=1)\n",
    "    #actos = {\"WEEK\":0, \"RES\":1, \"TEACH\":2, \"SERVICE\":3, \"SOC\":4, \"MB\":5, \"STR\":6, \"IDLE\":7, \"MISC\":8, \"DESI\":9}\n",
    "    data = pd.read_csv(\"../data/{}.csv\".format(year))\n",
    "    #print(data)\n",
    "\n",
    "    #total_hours = data[:,actos[\"RES\"]] + data[:, actos[\"TEACH\"]] + data[:, actos[\"SERVICE\"]]\n",
    "    #res_hours =  data[:,actos[\"RES\"]]\n",
    "    #desi_hours =  data[:,actos[\"DESI\"]]\n",
    "    \n",
    "    total_hours = data[\"RES\"] + data[\"TEACH\"]  + data[\"SERV\"]\n",
    "    res_hours = data[\"RES\"]\n",
    "    desi_hours = data[\"DESI\"]\n",
    "\n",
    "    valid_weeks = total_hours>10\n",
    "    n_valid_weeks = len(desi_hours[valid_weeks])\n",
    "    total_desi_hours_week = desi_hours[valid_weeks].sum()/n_valid_weeks\n",
    "    total_res_hours_week = res_hours[valid_weeks].sum()/n_valid_weeks\n",
    "    total_desi_res_hours_week = 0.25*(total_res_hours_week - total_desi_hours_week)\n",
    "    print(\"Year {} [weeks {}] DESI service {} DESI research {} Research total {}\".format(\n",
    "        year, n_valid_weeks, round(total_desi_hours_week), round(total_desi_res_hours_week), round(total_res_hours_week)))"
   ]
  },
  {
   "cell_type": "code",
   "execution_count": 23,
   "metadata": {},
   "outputs": [
    {
     "name": "stdout",
     "output_type": "stream",
     "text": [
      "Year 2014 [weeks 50] DESI service 2 DESI research 3 Research total 15\n",
      "Year 2015 [weeks 48] DESI service 5 DESI research 2 Research total 13\n",
      "Year 2016 [weeks 47] DESI service 8 DESI research 2 Research total 16\n",
      "Year 2017 [weeks 45] DESI service 10 DESI research 2 Research total 19\n",
      "Year 2018 [weeks 47] DESI service 7 DESI research 2 Research total 14\n",
      "Year 2019 [weeks 45] DESI service 5 DESI research 3 Research total 17\n",
      "Year 2020 [weeks 48] DESI service 9 DESI research 2 Research total 17\n",
      "Year 2021 [weeks 38] DESI service 7 DESI research 1 Research total 12\n"
     ]
    }
   ],
   "source": [
    "desi_stats(2014)\n",
    "desi_stats(2015)\n",
    "desi_stats(2016)\n",
    "desi_stats(2017)\n",
    "desi_stats(2018)\n",
    "desi_stats(2019)\n",
    "desi_stats(2020)\n",
    "desi_stats(2021)"
   ]
  },
  {
   "cell_type": "code",
   "execution_count": 11,
   "metadata": {
    "collapsed": true
   },
   "outputs": [
    {
     "data": {
      "text/plain": [
       "55.0"
      ]
     },
     "execution_count": 11,
     "metadata": {},
     "output_type": "execute_result"
    }
   ],
   "source": [
    "2.0+5.0+8.0+10.0+10.0+8.0+12.0"
   ]
  },
  {
   "cell_type": "code",
   "execution_count": null,
   "metadata": {},
   "outputs": [],
   "source": []
  }
 ],
 "metadata": {
  "kernelspec": {
   "display_name": "Python 3",
   "language": "python",
   "name": "python3"
  },
  "language_info": {
   "codemirror_mode": {
    "name": "ipython",
    "version": 3
   },
   "file_extension": ".py",
   "mimetype": "text/x-python",
   "name": "python",
   "nbconvert_exporter": "python",
   "pygments_lexer": "ipython3",
   "version": "3.8.10"
  }
 },
 "nbformat": 4,
 "nbformat_minor": 2
}
